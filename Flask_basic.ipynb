{
  "nbformat": 4,
  "nbformat_minor": 0,
  "metadata": {
    "colab": {
      "name": "Flask_basic",
      "provenance": [],
      "authorship_tag": "ABX9TyPKW2QrV4wreXq9AfYlNuDW",
      "include_colab_link": true
    },
    "kernelspec": {
      "name": "python3",
      "display_name": "Python 3"
    },
    "language_info": {
      "name": "python"
    }
  },
  "cells": [
    {
      "cell_type": "markdown",
      "metadata": {
        "id": "view-in-github",
        "colab_type": "text"
      },
      "source": [
        "<a href=\"https://colab.research.google.com/github/Jaejuna/Flask_basic/blob/main/Flask_basic.ipynb\" target=\"_parent\"><img src=\"https://colab.research.google.com/assets/colab-badge.svg\" alt=\"Open In Colab\"/></a>"
      ]
    },
    {
      "cell_type": "code",
      "metadata": {
        "colab": {
          "base_uri": "https://localhost:8080/"
        },
        "id": "4lcFY7WNKy9B",
        "outputId": "186096e3-db65-4f20-842d-1b5c042dbdc0"
      },
      "source": [
        "!pip install flask"
      ],
      "execution_count": null,
      "outputs": [
        {
          "output_type": "stream",
          "name": "stdout",
          "text": [
            "Requirement already satisfied: flask in /usr/local/lib/python3.7/dist-packages (1.1.4)\n",
            "Requirement already satisfied: Werkzeug<2.0,>=0.15 in /usr/local/lib/python3.7/dist-packages (from flask) (1.0.1)\n",
            "Requirement already satisfied: click<8.0,>=5.1 in /usr/local/lib/python3.7/dist-packages (from flask) (7.1.2)\n",
            "Requirement already satisfied: itsdangerous<2.0,>=0.24 in /usr/local/lib/python3.7/dist-packages (from flask) (1.1.0)\n",
            "Requirement already satisfied: Jinja2<3.0,>=2.10.1 in /usr/local/lib/python3.7/dist-packages (from flask) (2.11.3)\n",
            "Requirement already satisfied: MarkupSafe>=0.23 in /usr/local/lib/python3.7/dist-packages (from Jinja2<3.0,>=2.10.1->flask) (2.0.1)\n"
          ]
        }
      ]
    },
    {
      "cell_type": "code",
      "metadata": {
        "id": "6OX4XIy5LsFO"
      },
      "source": [
        "from flask import Flask"
      ],
      "execution_count": null,
      "outputs": []
    },
    {
      "cell_type": "code",
      "metadata": {
        "id": "H4L57uX5Ly7R"
      },
      "source": [
        "app = Flask(__name__)   #웹서비스 구분을 위해 __name__을 쓰는것이다.\n",
        "#app                     #이 앱 모듈에 서비스를 추가하면 된다."
      ],
      "execution_count": null,
      "outputs": []
    },
    {
      "cell_type": "code",
      "metadata": {
        "id": "kerKFfA-s4jV"
      },
      "source": [
        "@app.route(\"/hello\")              #flask 라우팅 문법 decorator\n",
        "def hello():\n",
        "  return \"<h1>Hello Flask!</h1>\""
      ],
      "execution_count": null,
      "outputs": []
    },
    {
      "cell_type": "code",
      "metadata": {
        "id": "MOmHo6tfwW1d"
      },
      "source": [
        "if __name__ == \"__main__\":\n",
        "  app.run(host = \"localhost\", port=\"8080\", debug = False) #실행 함수"
      ],
      "execution_count": null,
      "outputs": []
    },
    {
      "cell_type": "code",
      "source": [
        "#Nested function\n",
        "def outer_func():\n",
        "  print(\"call outer_func function\")\n",
        "\n",
        "  def inner_func():\n",
        "    return 'call inner_func function'\n",
        "\n",
        "  print(inner_func())\n",
        "\n",
        "outer_func()"
      ],
      "metadata": {
        "colab": {
          "base_uri": "https://localhost:8080/"
        },
        "id": "VWXbYJNQG8Eu",
        "outputId": "2f8d01ba-6d8d-4c83-e268-005fde7fad79"
      },
      "execution_count": 2,
      "outputs": [
        {
          "output_type": "stream",
          "name": "stdout",
          "text": [
            "call outer_func function\n",
            "call inner_func function\n"
          ]
        }
      ]
    },
    {
      "cell_type": "code",
      "source": [
        "inner_func()\n",
        "#nested function cannot be called out of it's own function\n",
        "#if one want to call the nested function if it's returned "
      ],
      "metadata": {
        "colab": {
          "base_uri": "https://localhost:8080/",
          "height": 172
        },
        "id": "QmDxbxvGHajB",
        "outputId": "966094b7-efd0-4b61-873f-fad757279f21"
      },
      "execution_count": 3,
      "outputs": [
        {
          "output_type": "error",
          "ename": "NameError",
          "evalue": "ignored",
          "traceback": [
            "\u001b[0;31m---------------------------------------------------------------------------\u001b[0m",
            "\u001b[0;31mNameError\u001b[0m                                 Traceback (most recent call last)",
            "\u001b[0;32m<ipython-input-3-1d4cd1e06103>\u001b[0m in \u001b[0;36m<module>\u001b[0;34m()\u001b[0m\n\u001b[0;32m----> 1\u001b[0;31m \u001b[0minner_func\u001b[0m\u001b[0;34m(\u001b[0m\u001b[0;34m)\u001b[0m\u001b[0;34m\u001b[0m\u001b[0;34m\u001b[0m\u001b[0m\n\u001b[0m",
            "\u001b[0;31mNameError\u001b[0m: name 'inner_func' is not defined"
          ]
        }
      ]
    }
  ]
}