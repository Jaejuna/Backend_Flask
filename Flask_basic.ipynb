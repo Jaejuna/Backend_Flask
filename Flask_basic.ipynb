{
  "nbformat": 4,
  "nbformat_minor": 0,
  "metadata": {
    "colab": {
      "name": "Flask_basic",
      "provenance": [],
      "authorship_tag": "ABX9TyOnehxcEnDg9uh/9IfclD1G",
      "include_colab_link": true
    },
    "kernelspec": {
      "name": "python3",
      "display_name": "Python 3"
    },
    "language_info": {
      "name": "python"
    }
  },
  "cells": [
    {
      "cell_type": "markdown",
      "metadata": {
        "id": "view-in-github",
        "colab_type": "text"
      },
      "source": [
        "<a href=\"https://colab.research.google.com/github/Jaejuna/Flask_basic/blob/main/Flask_basic.ipynb\" target=\"_parent\"><img src=\"https://colab.research.google.com/assets/colab-badge.svg\" alt=\"Open In Colab\"/></a>"
      ]
    },
    {
      "cell_type": "code",
      "metadata": {
        "colab": {
          "base_uri": "https://localhost:8080/"
        },
        "id": "4lcFY7WNKy9B",
        "outputId": "186096e3-db65-4f20-842d-1b5c042dbdc0"
      },
      "source": [
        "!pip install flask"
      ],
      "execution_count": null,
      "outputs": [
        {
          "output_type": "stream",
          "name": "stdout",
          "text": [
            "Requirement already satisfied: flask in /usr/local/lib/python3.7/dist-packages (1.1.4)\n",
            "Requirement already satisfied: Werkzeug<2.0,>=0.15 in /usr/local/lib/python3.7/dist-packages (from flask) (1.0.1)\n",
            "Requirement already satisfied: click<8.0,>=5.1 in /usr/local/lib/python3.7/dist-packages (from flask) (7.1.2)\n",
            "Requirement already satisfied: itsdangerous<2.0,>=0.24 in /usr/local/lib/python3.7/dist-packages (from flask) (1.1.0)\n",
            "Requirement already satisfied: Jinja2<3.0,>=2.10.1 in /usr/local/lib/python3.7/dist-packages (from flask) (2.11.3)\n",
            "Requirement already satisfied: MarkupSafe>=0.23 in /usr/local/lib/python3.7/dist-packages (from Jinja2<3.0,>=2.10.1->flask) (2.0.1)\n"
          ]
        }
      ]
    },
    {
      "cell_type": "code",
      "metadata": {
        "id": "6OX4XIy5LsFO"
      },
      "source": [
        "from flask import Flask"
      ],
      "execution_count": null,
      "outputs": []
    },
    {
      "cell_type": "code",
      "metadata": {
        "id": "H4L57uX5Ly7R"
      },
      "source": [
        "app = Flask(__name__)   #웹서비스 구분을 위해 __name__을 쓰는것이다.\n",
        "#app                     #이 앱 모듈에 서비스를 추가하면 된다."
      ],
      "execution_count": null,
      "outputs": []
    },
    {
      "cell_type": "code",
      "metadata": {
        "id": "kerKFfA-s4jV"
      },
      "source": [
        "@app.route(\"/hello\")              #flask 라우팅 문법 decorator\n",
        "def hello():\n",
        "  return \"<h1>Hello Flask!</h1>\""
      ],
      "execution_count": null,
      "outputs": []
    },
    {
      "cell_type": "code",
      "metadata": {
        "id": "MOmHo6tfwW1d"
      },
      "source": [
        "if __name__ == \"__main__\":\n",
        "  app.run(host = \"localhost\", port=\"8080\", debug = False) #실행 함수"
      ],
      "execution_count": null,
      "outputs": []
    },
    {
      "cell_type": "code",
      "source": [
        "#Nested function\n",
        "def outer_func():\n",
        "  print(\"call outer_func function\")\n",
        "\n",
        "  def inner_func():\n",
        "    return 'call inner_func function'\n",
        "\n",
        "  print(inner_func())\n",
        "\n",
        "outer_func()"
      ],
      "metadata": {
        "colab": {
          "base_uri": "https://localhost:8080/"
        },
        "id": "VWXbYJNQG8Eu",
        "outputId": "2f8d01ba-6d8d-4c83-e268-005fde7fad79"
      },
      "execution_count": null,
      "outputs": [
        {
          "output_type": "stream",
          "name": "stdout",
          "text": [
            "call outer_func function\n",
            "call inner_func function\n"
          ]
        }
      ]
    },
    {
      "cell_type": "code",
      "source": [
        "inner_func()\n",
        "#nested function cannot be called out of it's own function\n",
        "#if one want to call the nested function if it's returned "
      ],
      "metadata": {
        "colab": {
          "base_uri": "https://localhost:8080/",
          "height": 208
        },
        "id": "QmDxbxvGHajB",
        "outputId": "2b89a284-564c-476a-a879-94c406022557"
      },
      "execution_count": null,
      "outputs": [
        {
          "output_type": "error",
          "ename": "NameError",
          "evalue": "ignored",
          "traceback": [
            "\u001b[0;31m---------------------------------------------------------------------------\u001b[0m",
            "\u001b[0;31mNameError\u001b[0m                                 Traceback (most recent call last)",
            "\u001b[0;32m<ipython-input-1-867dbf8c1956>\u001b[0m in \u001b[0;36m<module>\u001b[0;34m()\u001b[0m\n\u001b[0;32m----> 1\u001b[0;31m \u001b[0minner_func\u001b[0m\u001b[0;34m(\u001b[0m\u001b[0;34m)\u001b[0m\u001b[0;34m\u001b[0m\u001b[0;34m\u001b[0m\u001b[0m\n\u001b[0m\u001b[1;32m      2\u001b[0m \u001b[0;31m#nested function cannot be called out of it's own function\u001b[0m\u001b[0;34m\u001b[0m\u001b[0;34m\u001b[0m\u001b[0;34m\u001b[0m\u001b[0m\n\u001b[1;32m      3\u001b[0m \u001b[0;31m#if one want to call the nested function if it's returned\u001b[0m\u001b[0;34m\u001b[0m\u001b[0;34m\u001b[0m\u001b[0;34m\u001b[0m\u001b[0m\n",
            "\u001b[0;31mNameError\u001b[0m: name 'inner_func' is not defined"
          ]
        }
      ]
    },
    {
      "cell_type": "code",
      "source": [
        "#first-class 함수의 특징\n",
        "#다른 변수에 할당 하기\n",
        "def calc_square(digit):\n",
        "  return digit * digit"
      ],
      "metadata": {
        "id": "9w5dXoeXVox1"
      },
      "execution_count": null,
      "outputs": []
    },
    {
      "cell_type": "code",
      "source": [
        "calc_square(2)"
      ],
      "metadata": {
        "colab": {
          "base_uri": "https://localhost:8080/"
        },
        "id": "YnH2DLvPVxZb",
        "outputId": "98090990-d65e-4c95-ad40-b33a2c780190"
      },
      "execution_count": null,
      "outputs": [
        {
          "output_type": "execute_result",
          "data": {
            "text/plain": [
              "4"
            ]
          },
          "metadata": {},
          "execution_count": 3
        }
      ]
    },
    {
      "cell_type": "code",
      "source": [
        "func1 = calc_square\n",
        "print(func1)\n",
        "func1(2)"
      ],
      "metadata": {
        "colab": {
          "base_uri": "https://localhost:8080/"
        },
        "id": "JbdWI1j6VzC1",
        "outputId": "8cc4e1cc-530c-4f53-d8e2-3eb7cf6aff0f"
      },
      "execution_count": null,
      "outputs": [
        {
          "output_type": "stream",
          "name": "stdout",
          "text": [
            "<function calc_square at 0x7fed3539a320>\n"
          ]
        },
        {
          "output_type": "execute_result",
          "data": {
            "text/plain": [
              "4"
            ]
          },
          "metadata": {},
          "execution_count": 5
        }
      ]
    },
    {
      "cell_type": "code",
      "source": [
        "#함수를 다른 함수에 인자로 넣기\n",
        "def calc_square(digit):\n",
        "  return digit * digit\n",
        "\n",
        "def calc_plus(digit):\n",
        "  return digit + digit\n",
        "\n",
        "def calc_quad(digit):\n",
        "  return digit * digit * digit"
      ],
      "metadata": {
        "id": "PRYI723AWIrZ"
      },
      "execution_count": null,
      "outputs": []
    },
    {
      "cell_type": "code",
      "source": [
        "def list_square (function, digit_list):\n",
        "  result = list()\n",
        "  for digit in digit_list:\n",
        "    result.append(function(digit))\n",
        "  print(result)"
      ],
      "metadata": {
        "id": "Ze3uNTYPWi6B"
      },
      "execution_count": null,
      "outputs": []
    },
    {
      "cell_type": "code",
      "source": [
        "num_list = [1,2,3,4,5]"
      ],
      "metadata": {
        "id": "U5ziCYH9W4rA"
      },
      "execution_count": null,
      "outputs": []
    },
    {
      "cell_type": "code",
      "source": [
        "list_square(calc_square, num_list)\n",
        "list_square(calc_plus, num_list)\n",
        "list_square(calc_quad, num_list)"
      ],
      "metadata": {
        "colab": {
          "base_uri": "https://localhost:8080/"
        },
        "id": "nffJHd2cW7Fv",
        "outputId": "2e163c62-e230-43e5-ad2c-cc29cd377673"
      },
      "execution_count": null,
      "outputs": [
        {
          "output_type": "stream",
          "name": "stdout",
          "text": [
            "[1, 4, 9, 16, 25]\n",
            "[2, 4, 6, 8, 10]\n",
            "[1, 8, 27, 64, 125]\n"
          ]
        }
      ]
    },
    {
      "cell_type": "code",
      "source": [
        "#함수의 결과값으로 함수를 리턴할 수도 있음\n",
        "def logger(msg):\n",
        "    message = msg\n",
        "    def msg_creator():    # <--- 함수 안에 함수를 만들 수도 있음\n",
        "        print ('[HIGH LEVEL]: ', msg)\n",
        "    return msg_creator"
      ],
      "metadata": {
        "id": "I1-De-BOXJoP"
      },
      "execution_count": 15,
      "outputs": []
    },
    {
      "cell_type": "code",
      "source": [
        "log1 = logger('Dave Log-in')\n",
        "print(log1)\n",
        "log1()"
      ],
      "metadata": {
        "id": "ypi8WdmSank4"
      },
      "execution_count": null,
      "outputs": []
    }
  ]
}