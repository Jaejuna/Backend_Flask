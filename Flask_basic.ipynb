{
  "nbformat": 4,
  "nbformat_minor": 0,
  "metadata": {
    "colab": {
      "name": "Flask_basic",
      "provenance": [],
      "authorship_tag": "ABX9TyPQXpY5tE2m2a9tubU/g6Wy",
      "include_colab_link": true
    },
    "kernelspec": {
      "name": "python3",
      "display_name": "Python 3"
    },
    "language_info": {
      "name": "python"
    }
  },
  "cells": [
    {
      "cell_type": "markdown",
      "metadata": {
        "id": "view-in-github",
        "colab_type": "text"
      },
      "source": [
        "<a href=\"https://colab.research.google.com/github/Jaejuna/Flask_basic/blob/main/Flask_basic.ipynb\" target=\"_parent\"><img src=\"https://colab.research.google.com/assets/colab-badge.svg\" alt=\"Open In Colab\"/></a>"
      ]
    },
    {
      "cell_type": "code",
      "metadata": {
        "colab": {
          "base_uri": "https://localhost:8080/"
        },
        "id": "4lcFY7WNKy9B",
        "outputId": "186096e3-db65-4f20-842d-1b5c042dbdc0"
      },
      "source": [
        "!pip install flask"
      ],
      "execution_count": 5,
      "outputs": [
        {
          "output_type": "stream",
          "name": "stdout",
          "text": [
            "Requirement already satisfied: flask in /usr/local/lib/python3.7/dist-packages (1.1.4)\n",
            "Requirement already satisfied: Werkzeug<2.0,>=0.15 in /usr/local/lib/python3.7/dist-packages (from flask) (1.0.1)\n",
            "Requirement already satisfied: click<8.0,>=5.1 in /usr/local/lib/python3.7/dist-packages (from flask) (7.1.2)\n",
            "Requirement already satisfied: itsdangerous<2.0,>=0.24 in /usr/local/lib/python3.7/dist-packages (from flask) (1.1.0)\n",
            "Requirement already satisfied: Jinja2<3.0,>=2.10.1 in /usr/local/lib/python3.7/dist-packages (from flask) (2.11.3)\n",
            "Requirement already satisfied: MarkupSafe>=0.23 in /usr/local/lib/python3.7/dist-packages (from Jinja2<3.0,>=2.10.1->flask) (2.0.1)\n"
          ]
        }
      ]
    },
    {
      "cell_type": "code",
      "metadata": {
        "id": "6OX4XIy5LsFO"
      },
      "source": [
        "from flask import Flask"
      ],
      "execution_count": 6,
      "outputs": []
    },
    {
      "cell_type": "code",
      "metadata": {
        "id": "H4L57uX5Ly7R"
      },
      "source": [
        "app = Flask(__name__)   #웹서비스 구분을 위해 __name__을 쓰는것이다.\n",
        "#app                     #이 앱 모듈에 서비스를 추가하면 된다."
      ],
      "execution_count": 18,
      "outputs": []
    },
    {
      "cell_type": "code",
      "metadata": {
        "id": "kerKFfA-s4jV"
      },
      "source": [
        "@app.route(\"/hello\")              #flask 라우팅 문법 decorator\n",
        "def hello():\n",
        "  return \"<h1>Hello Flask!</h1>\""
      ],
      "execution_count": 19,
      "outputs": []
    },
    {
      "cell_type": "code",
      "metadata": {
        "id": "MOmHo6tfwW1d"
      },
      "source": [
        "if __name__ == \"__main__\":\n",
        "  app.run(host = \"localhost\", port=\"8080\", debug = False) #실행 함수"
      ],
      "execution_count": null,
      "outputs": []
    }
  ]
}